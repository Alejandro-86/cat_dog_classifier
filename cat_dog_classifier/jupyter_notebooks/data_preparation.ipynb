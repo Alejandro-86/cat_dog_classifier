{
 "cells": [
  {
   "cell_type": "markdown",
   "id": "da9f65a7-2c2b-4cc8-afa7-5f3ec7d131c4",
   "metadata": {},
   "source": [
    "# Data exploration"
   ]
  },
  {
   "cell_type": "code",
   "execution_count": 8,
   "id": "d539f13e-01f4-4aaa-8364-c8922b77b80f",
   "metadata": {},
   "outputs": [],
   "source": [
    "import os\n",
    "\n",
    "data_dir = \"../dataset\"\n",
    "train_dir = os.path.join(data_dir, \"training_set\")\n",
    "test_dir = os.path.join(data_dir, \"test_set\")\n",
    "\n",
    "# Define classes (cats and dogs)\n",
    "classes = [\"cats\", \"dogs\"]\n",
    "\n",
    "\n",
    "# Count the number of images in each class in the training set\n",
    "class_counts_train = {}\n",
    "for class_name in classes:\n",
    "    class_path = os.path.join(train_dir, class_name)\n",
    "    num_images = len(os.listdir(class_path))\n",
    "    class_counts_train[class_name] = num_images\n",
    "\n",
    "# Count the number of images in each class in the test set\n",
    "class_counts_test = {}\n",
    "for class_name in classes:\n",
    "    class_path = os.path.join(test_dir, class_name)\n",
    "    num_images = len(os.listdir(class_path))\n",
    "    class_counts_test[class_name] = num_images\n"
   ]
  },
  {
   "cell_type": "code",
   "execution_count": 15,
   "id": "b4df001a",
   "metadata": {},
   "outputs": [
    {
     "ename": "ModuleNotFoundError",
     "evalue": "No module named 'matplotlib'",
     "output_type": "error",
     "traceback": [
      "\u001b[0;31m---------------------------------------------------------------------------\u001b[0m",
      "\u001b[0;31mModuleNotFoundError\u001b[0m                       Traceback (most recent call last)",
      "\u001b[1;32m/Users/alexalonso/PycharmProjects/cat_dog_classifier/cat_dog_classifier/jupyter_notebooks/data_preparation.ipynb Cell 3\u001b[0m line \u001b[0;36m1\n\u001b[0;32m----> <a href='vscode-notebook-cell:/Users/alexalonso/PycharmProjects/cat_dog_classifier/cat_dog_classifier/jupyter_notebooks/data_preparation.ipynb#W3sZmlsZQ%3D%3D?line=0'>1</a>\u001b[0m \u001b[39mimport\u001b[39;00m \u001b[39mmatplotlib\u001b[39;00m\u001b[39m.\u001b[39;00m\u001b[39mpyplot\u001b[39;00m \u001b[39mas\u001b[39;00m \u001b[39mplt\u001b[39;00m\n\u001b[1;32m      <a href='vscode-notebook-cell:/Users/alexalonso/PycharmProjects/cat_dog_classifier/cat_dog_classifier/jupyter_notebooks/data_preparation.ipynb#W3sZmlsZQ%3D%3D?line=2'>3</a>\u001b[0m \u001b[39m# Visualize class distribution for training set\u001b[39;00m\n\u001b[1;32m      <a href='vscode-notebook-cell:/Users/alexalonso/PycharmProjects/cat_dog_classifier/cat_dog_classifier/jupyter_notebooks/data_preparation.ipynb#W3sZmlsZQ%3D%3D?line=3'>4</a>\u001b[0m plt\u001b[39m.\u001b[39mbar(class_counts_train\u001b[39m.\u001b[39mkeys(), class_counts_train\u001b[39m.\u001b[39mvalues())\n",
      "\u001b[0;31mModuleNotFoundError\u001b[0m: No module named 'matplotlib'"
     ]
    }
   ],
   "source": [
    "import matplotlib.pyplot as plt\n",
    "\n",
    "# Visualize class distribution for training set\n",
    "plt.bar(class_counts_train.keys(), class_counts_train.values())\n",
    "plt.title(\"Class Distribution\")\n",
    "plt.xlabel(\"Class\")\n",
    "plt.ylabel(\"Number of Images\")\n",
    "plt.show()\n",
    "\n"
   ]
  },
  {
   "cell_type": "code",
   "execution_count": null,
   "id": "7e880b05-f4da-4597-890d-1f0a9447949d",
   "metadata": {},
   "outputs": [],
   "source": [
    "# Import necessary libraries\n",
    "import os\n",
    "import random\n",
    "import numpy as np\n",
    "import matplotlib.pyplot as plt\n",
    "from tensorflow.keras.preprocessing.image import ImageDataGenerator\n",
    "\n",
    "# Set the dataset directory path\n",
    "data_dir = \"../dataset\"\n",
    "\n",
    "# Define classes (cats and dogs)\n",
    "classes = [\"cat\", \"dog\"]\n",
    "\n",
    "# Count the number of images in each class\n",
    "class_counts = {}\n",
    "for class_name in classes:\n",
    "    class_path = os.path.join(data_dir, class_name)\n",
    "    num_images = len(os.listdir(class_path))\n",
    "    class_counts[class_name] = num_images\n",
    "\n",
    "# Visualize class distribution\n",
    "plt.bar(class_counts.keys(), class_counts.values())\n",
    "plt.title(\"Class Distribution\")\n",
    "plt.xlabel(\"Class\")\n",
    "plt.ylabel(\"Number of Images\")\n",
    "plt.show()\n",
    "\n",
    "# Display sample images\n",
    "num_samples = 5\n",
    "plt.figure(figsize=(12, 6))\n",
    "for i, class_name in enumerate(classes):\n",
    "    class_path = os.path.join(data_dir, class_name)\n",
    "    random_samples = random.sample(os.listdir(class_path), num_samples)\n",
    "    for j, sample in enumerate(random_samples):\n",
    "        img = plt.imread(os.path.join(class_path, sample))\n",
    "        plt.subplot(num_samples, len(classes), i * num_samples + j + 1)\n",
    "        plt.imshow(img)\n",
    "        plt.title(class_name)\n",
    "plt.tight_layout()\n",
    "plt.show()\n"
   ]
  }
 ],
 "metadata": {
  "kernelspec": {
   "display_name": "Python 3 (ipykernel)",
   "language": "python",
   "name": "python3"
  },
  "language_info": {
   "codemirror_mode": {
    "name": "ipython",
    "version": 3
   },
   "file_extension": ".py",
   "mimetype": "text/x-python",
   "name": "python",
   "nbconvert_exporter": "python",
   "pygments_lexer": "ipython3",
   "version": "3.10.6"
  }
 },
 "nbformat": 4,
 "nbformat_minor": 5
}
